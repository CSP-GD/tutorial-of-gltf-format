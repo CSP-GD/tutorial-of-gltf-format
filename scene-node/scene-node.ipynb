{
  "nbformat": 4,
  "nbformat_minor": 0,
  "metadata": {
    "colab": {
      "name": "scene-node.ipynb",
      "provenance": [],
      "toc_visible": true
    },
    "kernelspec": {
      "name": "python3",
      "display_name": "Python 3"
    },
    "accelerator": "GPU"
  },
  "cells": [
    {
      "cell_type": "markdown",
      "metadata": {
        "id": "uDPDN1lSMl5q",
        "colab_type": "text"
      },
      "source": [
        "# GLTF 格式教學 Scene & Node 篇"
      ]
    },
    {
      "cell_type": "markdown",
      "metadata": {
        "id": "wB5dVCbFXVdh",
        "colab_type": "text"
      },
      "source": [
        "<a href=\"https://colab.research.google.com/github/CSP-GD/notes/blob/master/practice/file_format/gltf%E6%A0%BC%E5%BC%8F%E8%A7%A3%E6%9E%90/scene-node/scene-node.ipynb\">\n",
        "  <img src=\"https://colab.research.google.com/assets/colab-badge.svg\" alt=\"Open In Colab\"/>\n",
        "</a>\n",
        "\n",
        "[`Open in observablehq`](https://observablehq.com/@toonnyy8/gltf-scene-node/9)"
      ]
    },
    {
      "cell_type": "markdown",
      "metadata": {
        "id": "GrSb0MlrFVpc",
        "colab_type": "text"
      },
      "source": [
        "![圖 1. scenes, nodes \\[1\\]](https://github.com/CSP-GD/notes/raw/master/practice/file_format/gltf%E6%A0%BC%E5%BC%8F%E8%A7%A3%E6%9E%90/scene-node/gltfOverview-2.0.0b-scene-node.png)\n",
        "\n",
        "圖 1. scenes, nodes \\[1\\]"
      ]
    },
    {
      "cell_type": "markdown",
      "metadata": {
        "id": "tRnc8CmU8vRl",
        "colab_type": "text"
      },
      "source": [
        "## 簡介"
      ]
    },
    {
      "cell_type": "markdown",
      "metadata": {
        "id": "A96YlEl999Yx",
        "colab_type": "text"
      },
      "source": [
        "### Scene 簡介"
      ]
    },
    {
      "cell_type": "markdown",
      "metadata": {
        "id": "IvWTJtvn87EL",
        "colab_type": "text"
      },
      "source": [
        "glTF 中可以儲存多個場景，而每個場景都會存在「scenes」屬性中，  \n",
        "由「scene」屬性指向預設的場景，而「scenes」內會有「nodes」，  \n",
        "表示每個場景所擁有的。"
      ]
    },
    {
      "cell_type": "markdown",
      "metadata": {
        "id": "FpK18ZA68_Y1",
        "colab_type": "text"
      },
      "source": [
        "### Node 簡介"
      ]
    },
    {
      "cell_type": "markdown",
      "metadata": {
        "id": "vLqT2uQc-HVJ",
        "colab_type": "text"
      },
      "source": [
        "每個 node 都可以當成是場景中的一個物件，  \n",
        "每個物件具有自己的名稱「name」，  \n",
        "這些物件有可能是「mesh」、「skin」、「camera」、「light」等等，  \n",
        "而物件之間還具有親子關係，並利用「children」用來記錄哪些 node 是自己的子代，  \n",
        "最後還有「matrix」來記錄此物件的初始姿態。  \n",
        "> ps.「matrix」可拆分成  \n",
        "> 1. 代表偏移的「translation」\n",
        "> 2. 代表旋轉的「rotation」\n",
        "> 3. 代表縮放的「scale」"
      ]
    },
    {
      "cell_type": "markdown",
      "metadata": {
        "id": "iJZE-jGf-JF4",
        "colab_type": "text"
      },
      "source": [
        "## 正式開始"
      ]
    },
    {
      "cell_type": "markdown",
      "metadata": {
        "id": "_Y8c5F6m-Kbp",
        "colab_type": "text"
      },
      "source": [
        "### 載入 glTF_tools"
      ]
    },
    {
      "cell_type": "code",
      "metadata": {
        "id": "xNujnE83-xB0",
        "colab_type": "code",
        "outputId": "60cc029a-08d8-4ae2-803a-19a41b8d40bd",
        "colab": {
          "base_uri": "https://localhost:8080/",
          "height": 336
        }
      },
      "source": [
        "!wget https://github.com/CSP-GD/notes/raw/master/practice/file_format/gltf%E6%A0%BC%E5%BC%8F%E8%A7%A3%E6%9E%90/gltf-tools.ipynb -O gltf-tools.ipynb\n",
        "%run ./gltf-tools.ipynb"
      ],
      "execution_count": 67,
      "outputs": [
        {
          "output_type": "stream",
          "text": [
            "--2020-04-07 15:20:15--  https://github.com/CSP-GD/notes/raw/master/practice/file_format/gltf%E6%A0%BC%E5%BC%8F%E8%A7%A3%E6%9E%90/gltf-tools.ipynb\n",
            "Resolving github.com (github.com)... 192.30.255.113\n",
            "Connecting to github.com (github.com)|192.30.255.113|:443... connected.\n",
            "HTTP request sent, awaiting response... 302 Found\n",
            "Location: https://raw.githubusercontent.com/CSP-GD/notes/master/practice/file_format/gltf%E6%A0%BC%E5%BC%8F%E8%A7%A3%E6%9E%90/gltf-tools.ipynb [following]\n",
            "--2020-04-07 15:20:15--  https://raw.githubusercontent.com/CSP-GD/notes/master/practice/file_format/gltf%E6%A0%BC%E5%BC%8F%E8%A7%A3%E6%9E%90/gltf-tools.ipynb\n",
            "Resolving raw.githubusercontent.com (raw.githubusercontent.com)... 151.101.0.133, 151.101.64.133, 151.101.128.133, ...\n",
            "Connecting to raw.githubusercontent.com (raw.githubusercontent.com)|151.101.0.133|:443... connected.\n",
            "HTTP request sent, awaiting response... 200 OK\n",
            "Length: 5549 (5.4K) [text/plain]\n",
            "Saving to: ‘gltf-tools.ipynb’\n",
            "\n",
            "\rgltf-tools.ipynb      0%[                    ]       0  --.-KB/s               \rgltf-tools.ipynb    100%[===================>]   5.42K  --.-KB/s    in 0s      \n",
            "\n",
            "2020-04-07 15:20:16 (80.1 MB/s) - ‘gltf-tools.ipynb’ saved [5549/5549]\n",
            "\n",
            "glTF_tools is loaded\n"
          ],
          "name": "stdout"
        }
      ]
    },
    {
      "cell_type": "markdown",
      "metadata": {
        "id": "Iaw0gWIIQass",
        "colab_type": "text"
      },
      "source": [
        "## 載入檔案"
      ]
    },
    {
      "cell_type": "code",
      "metadata": {
        "id": "blTAX0xFF4_V",
        "colab_type": "code",
        "outputId": "88b95bbd-2203-458b-e7e4-b902ca23dd17",
        "colab": {
          "base_uri": "https://localhost:8080/",
          "height": 335
        }
      },
      "source": [
        "!wget https://github.com/CSP-GD/notes/raw/master/practice/file_format/gltf%E6%A0%BC%E5%BC%8F%E8%A7%A3%E6%9E%90/scene-node/cube-channel.glb -O cube-channel.glb\n",
        "glb_file = open('./cube-channel.glb', 'rb')\n",
        "glb_bytes = glb_file.read()\n",
        "model, buffers = glTF_tools.glb_loader(glb_bytes)\n",
        "glTF_tools.render_JSON(model)"
      ],
      "execution_count": 68,
      "outputs": [
        {
          "output_type": "stream",
          "text": [
            "--2020-04-07 15:20:17--  https://github.com/CSP-GD/notes/raw/master/practice/file_format/gltf%E6%A0%BC%E5%BC%8F%E8%A7%A3%E6%9E%90/scene-node/cube-channel.glb\n",
            "Resolving github.com (github.com)... 140.82.113.4\n",
            "Connecting to github.com (github.com)|140.82.113.4|:443... connected.\n",
            "HTTP request sent, awaiting response... 302 Found\n",
            "Location: https://raw.githubusercontent.com/CSP-GD/notes/master/practice/file_format/gltf%E6%A0%BC%E5%BC%8F%E8%A7%A3%E6%9E%90/scene-node/cube-channel.glb [following]\n",
            "--2020-04-07 15:20:18--  https://raw.githubusercontent.com/CSP-GD/notes/master/practice/file_format/gltf%E6%A0%BC%E5%BC%8F%E8%A7%A3%E6%9E%90/scene-node/cube-channel.glb\n",
            "Resolving raw.githubusercontent.com (raw.githubusercontent.com)... 151.101.0.133, 151.101.64.133, 151.101.128.133, ...\n",
            "Connecting to raw.githubusercontent.com (raw.githubusercontent.com)|151.101.0.133|:443... connected.\n",
            "HTTP request sent, awaiting response... 200 OK\n",
            "Length: 4544 (4.4K) [application/octet-stream]\n",
            "Saving to: ‘cube-channel.glb’\n",
            "\n",
            "\rcube-channel.glb      0%[                    ]       0  --.-KB/s               \rcube-channel.glb    100%[===================>]   4.44K  --.-KB/s    in 0s      \n",
            "\n",
            "2020-04-07 15:20:18 (87.4 MB/s) - ‘cube-channel.glb’ saved [4544/4544]\n",
            "\n"
          ],
          "name": "stdout"
        },
        {
          "output_type": "display_data",
          "data": {
            "text/html": [
              "<div id=\"ca1dab97-4464-4ebf-b0e1-6286521d2c2e\" style=\"width:100%;\"></div>"
            ]
          },
          "metadata": {
            "tags": []
          }
        },
        {
          "output_type": "display_data",
          "data": {
            "text/html": [
              "\n",
              "        <script src=\"https://rawgit.com/caldwell/renderjson/master/renderjson.js\"></script>\n",
              "        <script>\n",
              "            document.getElementById('ca1dab97-4464-4ebf-b0e1-6286521d2c2e').appendChild(renderjson({\"asset\": {\"generator\": \"Khronos glTF Blender I/O v1.1.46\", \"version\": \"2.0\"}, \"scene\": 0, \"scenes\": [{\"name\": \"Scene\", \"nodes\": [2]}], \"nodes\": [{\"mesh\": 0, \"name\": \"Cube.002\", \"translation\": [3, 0, 0]}, {\"children\": [0], \"mesh\": 1, \"name\": \"Cube.001\", \"translation\": [3, 0, 0]}, {\"children\": [1], \"mesh\": 2, \"name\": \"Cube\"}], \"materials\": [{\"doubleSided\": true, \"emissiveFactor\": [0, 0, 0], \"name\": \"Material\", \"pbrMetallicRoughness\": {\"baseColorFactor\": [0.800000011920929, 0.800000011920929, 0.800000011920929, 1], \"metallicFactor\": 0, \"roughnessFactor\": 0.4000000059604645}}], \"meshes\": [{\"name\": \"Cube.002\", \"primitives\": [{\"attributes\": {\"POSITION\": 0, \"NORMAL\": 1, \"TEXCOORD_0\": 2}, \"indices\": 3, \"material\": 0}]}, {\"name\": \"Cube.001\", \"primitives\": [{\"attributes\": {\"POSITION\": 4, \"NORMAL\": 5, \"TEXCOORD_0\": 6}, \"indices\": 3, \"material\": 0}]}, {\"name\": \"Cube\", \"primitives\": [{\"attributes\": {\"POSITION\": 7, \"NORMAL\": 8, \"TEXCOORD_0\": 9}, \"indices\": 3, \"material\": 0}]}], \"accessors\": [{\"bufferView\": 0, \"componentType\": 5126, \"count\": 24, \"max\": [1, 1, 1], \"min\": [-1, -1, -1], \"type\": \"VEC3\"}, {\"bufferView\": 1, \"componentType\": 5126, \"count\": 24, \"type\": \"VEC3\"}, {\"bufferView\": 2, \"componentType\": 5126, \"count\": 24, \"type\": \"VEC2\"}, {\"bufferView\": 3, \"componentType\": 5123, \"count\": 36, \"type\": \"SCALAR\"}, {\"bufferView\": 4, \"componentType\": 5126, \"count\": 24, \"max\": [1, 1, 1], \"min\": [-1, -1, -1], \"type\": \"VEC3\"}, {\"bufferView\": 5, \"componentType\": 5126, \"count\": 24, \"type\": \"VEC3\"}, {\"bufferView\": 6, \"componentType\": 5126, \"count\": 24, \"type\": \"VEC2\"}, {\"bufferView\": 7, \"componentType\": 5126, \"count\": 24, \"max\": [1, 1, 1], \"min\": [-1, -1, -1], \"type\": \"VEC3\"}, {\"bufferView\": 8, \"componentType\": 5126, \"count\": 24, \"type\": \"VEC3\"}, {\"bufferView\": 9, \"componentType\": 5126, \"count\": 24, \"type\": \"VEC2\"}], \"bufferViews\": [{\"buffer\": 0, \"byteLength\": 288, \"byteOffset\": 0}, {\"buffer\": 0, \"byteLength\": 288, \"byteOffset\": 288}, {\"buffer\": 0, \"byteLength\": 192, \"byteOffset\": 576}, {\"buffer\": 0, \"byteLength\": 72, \"byteOffset\": 768}, {\"buffer\": 0, \"byteLength\": 288, \"byteOffset\": 840}, {\"buffer\": 0, \"byteLength\": 288, \"byteOffset\": 1128}, {\"buffer\": 0, \"byteLength\": 192, \"byteOffset\": 1416}, {\"buffer\": 0, \"byteLength\": 288, \"byteOffset\": 1608}, {\"buffer\": 0, \"byteLength\": 288, \"byteOffset\": 1896}, {\"buffer\": 0, \"byteLength\": 192, \"byteOffset\": 2184}], \"buffers\": [{\"byteLength\": 2376}]}))\n",
              "        </script>\n",
              "        "
            ]
          },
          "metadata": {
            "tags": []
          }
        }
      ]
    },
    {
      "cell_type": "markdown",
      "metadata": {
        "id": "gtVhEGYK8WQb",
        "colab_type": "text"
      },
      "source": [
        "### 查看場景"
      ]
    },
    {
      "cell_type": "code",
      "metadata": {
        "id": "w9XuP3A98fPH",
        "colab_type": "code",
        "outputId": "7a0d0dcd-d2ba-4c5c-af69-94fd4e662fe9",
        "colab": {
          "base_uri": "https://localhost:8080/",
          "height": 34
        }
      },
      "source": [
        "print(\"預設場景為 scenes[{}]\".format(model[\"scene\"]))"
      ],
      "execution_count": 69,
      "outputs": [
        {
          "output_type": "stream",
          "text": [
            "預設場景為 scenes[0]\n"
          ],
          "name": "stdout"
        }
      ]
    },
    {
      "cell_type": "code",
      "metadata": {
        "id": "05y0U12Y93ZK",
        "colab_type": "code",
        "outputId": "92778944-bdac-4846-8ddd-8bb79ae1a604",
        "colab": {
          "base_uri": "https://localhost:8080/",
          "height": 51
        }
      },
      "source": [
        "scene = model[\"scenes\"][model[\"scene\"]]\n",
        "\n",
        "print(scene)\n",
        "glTF_tools.render_JSON(scene)"
      ],
      "execution_count": 70,
      "outputs": [
        {
          "output_type": "stream",
          "text": [
            "{'name': 'Scene', 'nodes': [2]}\n"
          ],
          "name": "stdout"
        },
        {
          "output_type": "display_data",
          "data": {
            "text/html": [
              "<div id=\"a79c7044-78a4-4d81-9a21-380aa1108f79\" style=\"width:100%;\"></div>"
            ]
          },
          "metadata": {
            "tags": []
          }
        },
        {
          "output_type": "display_data",
          "data": {
            "text/html": [
              "\n",
              "        <script src=\"https://rawgit.com/caldwell/renderjson/master/renderjson.js\"></script>\n",
              "        <script>\n",
              "            document.getElementById('a79c7044-78a4-4d81-9a21-380aa1108f79').appendChild(renderjson({\"name\": \"Scene\", \"nodes\": [2]}))\n",
              "        </script>\n",
              "        "
            ]
          },
          "metadata": {
            "tags": []
          }
        }
      ]
    },
    {
      "cell_type": "markdown",
      "metadata": {
        "id": "QFffH71J_lD0",
        "colab_type": "text"
      },
      "source": [
        "本場景中只有一個 node : nodes\\[2\\]"
      ]
    },
    {
      "cell_type": "code",
      "metadata": {
        "id": "sv2Pu4q597FT",
        "colab_type": "code",
        "outputId": "7f68ff77-316c-4571-8562-dd5458e87ff3",
        "colab": {
          "base_uri": "https://localhost:8080/",
          "height": 51
        }
      },
      "source": [
        "node = model[\"nodes\"][scene[\"nodes\"][0]]\n",
        "\n",
        "print(node)\n",
        "glTF_tools.render_JSON(node)"
      ],
      "execution_count": 71,
      "outputs": [
        {
          "output_type": "stream",
          "text": [
            "{'children': [1], 'mesh': 2, 'name': 'Cube'}\n"
          ],
          "name": "stdout"
        },
        {
          "output_type": "display_data",
          "data": {
            "text/html": [
              "<div id=\"a3038d5a-0443-4ec7-8139-b1fea0d36561\" style=\"width:100%;\"></div>"
            ]
          },
          "metadata": {
            "tags": []
          }
        },
        {
          "output_type": "display_data",
          "data": {
            "text/html": [
              "\n",
              "        <script src=\"https://rawgit.com/caldwell/renderjson/master/renderjson.js\"></script>\n",
              "        <script>\n",
              "            document.getElementById('a3038d5a-0443-4ec7-8139-b1fea0d36561').appendChild(renderjson({\"children\": [1], \"mesh\": 2, \"name\": \"Cube\"}))\n",
              "        </script>\n",
              "        "
            ]
          },
          "metadata": {
            "tags": []
          }
        }
      ]
    },
    {
      "cell_type": "markdown",
      "metadata": {
        "id": "7hZQMocQ-I7X",
        "colab_type": "text"
      },
      "source": [
        "從其中內容可以知道\n",
        "1. 有子代，子代為 nodes\\[1\\]\n",
        "2. 此 node 代表的物件為 mesh，並指向 meshs\\[2\\]\n",
        "3. 此物件的名字為 Cube\n",
        "4. 沒有另外設定初始姿態"
      ]
    },
    {
      "cell_type": "markdown",
      "metadata": {
        "id": "lHtzXzRk-XnY",
        "colab_type": "text"
      },
      "source": [
        "查看子代 nodes\\[1\\]"
      ]
    },
    {
      "cell_type": "code",
      "metadata": {
        "id": "Jp3m9P9H-jP3",
        "colab_type": "code",
        "outputId": "3b64516b-c48e-408f-81ab-e0bf64670064",
        "colab": {
          "base_uri": "https://localhost:8080/",
          "height": 51
        }
      },
      "source": [
        "child_node = model[\"nodes\"][node[\"children\"][0]]\n",
        "\n",
        "print(child_node)\n",
        "glTF_tools.render_JSON(child_node)"
      ],
      "execution_count": 72,
      "outputs": [
        {
          "output_type": "stream",
          "text": [
            "{'children': [0], 'mesh': 1, 'name': 'Cube.001', 'translation': [3, 0, 0]}\n"
          ],
          "name": "stdout"
        },
        {
          "output_type": "display_data",
          "data": {
            "text/html": [
              "<div id=\"40426c9f-d2bc-407f-91c3-62c97c7e7fa5\" style=\"width:100%;\"></div>"
            ]
          },
          "metadata": {
            "tags": []
          }
        },
        {
          "output_type": "display_data",
          "data": {
            "text/html": [
              "\n",
              "        <script src=\"https://rawgit.com/caldwell/renderjson/master/renderjson.js\"></script>\n",
              "        <script>\n",
              "            document.getElementById('40426c9f-d2bc-407f-91c3-62c97c7e7fa5').appendChild(renderjson({\"children\": [0], \"mesh\": 1, \"name\": \"Cube.001\", \"translation\": [3, 0, 0]}))\n",
              "        </script>\n",
              "        "
            ]
          },
          "metadata": {
            "tags": []
          }
        }
      ]
    },
    {
      "cell_type": "markdown",
      "metadata": {
        "id": "2ChQsoxl-tDK",
        "colab_type": "text"
      },
      "source": [
        "從其中內容可以知道\n",
        "1. 有子代，子代為 nodes\\[0\\]\n",
        "2. 此 node 代表的物件為 mesh，並指向 meshs\\[1\\]\n",
        "3. 此物件的名字為 Cube.001\n",
        "4. 初始姿態向 X 軸正向位移 3 單位"
      ]
    },
    {
      "cell_type": "markdown",
      "metadata": {
        "id": "qxSpOf0T-54b",
        "colab_type": "text"
      },
      "source": [
        "查看子代的子代 nodes\\[0\\]"
      ]
    },
    {
      "cell_type": "code",
      "metadata": {
        "id": "kinzwIUJ_Acu",
        "colab_type": "code",
        "outputId": "dc0e9ab1-c180-4168-a8cc-4766dcffc7f7",
        "colab": {
          "base_uri": "https://localhost:8080/",
          "height": 51
        }
      },
      "source": [
        "grandchildren_node = model[\"nodes\"][child_node[\"children\"][0]]\n",
        "\n",
        "print(grandchildren_node)\n",
        "glTF_tools.render_JSON(grandchildren_node)"
      ],
      "execution_count": 73,
      "outputs": [
        {
          "output_type": "stream",
          "text": [
            "{'mesh': 0, 'name': 'Cube.002', 'translation': [3, 0, 0]}\n"
          ],
          "name": "stdout"
        },
        {
          "output_type": "display_data",
          "data": {
            "text/html": [
              "<div id=\"fecfffe8-4103-45ec-91e8-12ae10876e96\" style=\"width:100%;\"></div>"
            ]
          },
          "metadata": {
            "tags": []
          }
        },
        {
          "output_type": "display_data",
          "data": {
            "text/html": [
              "\n",
              "        <script src=\"https://rawgit.com/caldwell/renderjson/master/renderjson.js\"></script>\n",
              "        <script>\n",
              "            document.getElementById('fecfffe8-4103-45ec-91e8-12ae10876e96').appendChild(renderjson({\"mesh\": 0, \"name\": \"Cube.002\", \"translation\": [3, 0, 0]}))\n",
              "        </script>\n",
              "        "
            ]
          },
          "metadata": {
            "tags": []
          }
        }
      ]
    },
    {
      "cell_type": "markdown",
      "metadata": {
        "id": "qzXrcw3T_QYc",
        "colab_type": "text"
      },
      "source": [
        "從其中內容可以知道\n",
        "1. 並沒有子代\n",
        "2. 此 node 代表的物件為 mesh，並指向 meshs\\[0\\]\n",
        "3. 此物件的名字為 Cube.002\n",
        "4. 初始姿態向 X 軸正向位移 3 單位"
      ]
    },
    {
      "cell_type": "markdown",
      "metadata": {
        "id": "sQ_BKk5W_aki",
        "colab_type": "text"
      },
      "source": [
        "另外要注意，每個物件的姿態矩陣都會對子代產生作用，  \n",
        "因此 grandchildrenNode 實際上受到 childNode 的影響後，  \n",
        "總共會向 X 軸正向位移 6 單位。"
      ]
    },
    {
      "cell_type": "markdown",
      "metadata": {
        "id": "GCjgwXhWMCI-",
        "colab_type": "text"
      },
      "source": [
        "## 參考"
      ]
    },
    {
      "cell_type": "markdown",
      "metadata": {
        "id": "MYLZSKtEMO9S",
        "colab_type": "text"
      },
      "source": [
        "1. https://github.com/KhronosGroup/glTF"
      ]
    }
  ]
}
{
  "nbformat": 4,
  "nbformat_minor": 0,
  "metadata": {
    "colab": {
      "name": "gltf-tools.ipynb",
      "provenance": [],
      "toc_visible": true
    },
    "kernelspec": {
      "name": "python3",
      "display_name": "Python 3"
    },
    "accelerator": "GPU"
  },
  "cells": [
    {
      "cell_type": "markdown",
      "metadata": {
        "id": "uDPDN1lSMl5q",
        "colab_type": "text"
      },
      "source": [
        "# GLTF 格式教學 工具包"
      ]
    },
    {
      "cell_type": "code",
      "metadata": {
        "id": "HAqloikVEhZE",
        "colab_type": "code",
        "colab": {}
      },
      "source": [
        "class glTF_tools(object):\n",
        "    def __init__(self):\n",
        "        return\n"
      ],
      "execution_count": 0,
      "outputs": []
    },
    {
      "cell_type": "code",
      "metadata": {
        "id": "DeULccjZHcoW",
        "colab_type": "code",
        "colab": {}
      },
      "source": [
        "import json\n",
        "\n",
        "@staticmethod\n",
        "def glb_loader(glb_bytes):\n",
        "    assert glb_bytes[0:4].decode() == \"glTF\"\n",
        "\n",
        "    gltf_length = 0\n",
        "\n",
        "    for idx, curr in enumerate(glb_bytes[8:12]):\n",
        "        gltf_length += curr * 256 ** idx\n",
        "\n",
        "    assert len(glb_bytes) == gltf_length\n",
        "\n",
        "    def chunk_parser(chunk_type, chunk_data):\n",
        "        return {\n",
        "            \"BIN\\u0000\": lambda:chunk_data,\n",
        "            \"JSON\": lambda:json.loads(chunk_data.decode()),\n",
        "        }[chunk_type]()\n",
        "\n",
        "    chunks = []\n",
        "    offset = 12\n",
        "    i = 0\n",
        "\n",
        "    while(offset < len(glb_bytes)):\n",
        "        chunks.append({ \"type\": \"\", \"length\": 0, \"data\": \"\" })\n",
        "\n",
        "        for idx, curr in enumerate(glb_bytes[offset:offset + 4]):\n",
        "            chunks[i][\"length\"] += curr * 256 ** idx\n",
        "\n",
        "        chunks[i][\"type\"] = glb_bytes[offset + 4:offset + 8].decode()\n",
        "\n",
        "        chunks[i][\"data\"] = chunk_parser(\n",
        "            chunks[i][\"type\"],\n",
        "            glb_bytes[offset + 8:offset + 8 + chunks[i][\"length\"]]\n",
        "        )\n",
        "        offset += 8 + chunks[i][\"length\"]\n",
        "        i += 1\n",
        "\n",
        "    model = chunks[0][\"data\"]\n",
        "    buffers = []\n",
        "    for idx in range(len(model['buffers'])):\n",
        "        buffers.append(chunks[idx + 1][\"data\"])\n",
        "\n",
        "    return model, buffers\n",
        "\n",
        "glTF_tools.glb_loader=glb_loader\n",
        "\n",
        "del glb_loader"
      ],
      "execution_count": 0,
      "outputs": []
    },
    {
      "cell_type": "code",
      "metadata": {
        "id": "d6nuTfqmEbij",
        "colab_type": "code",
        "colab": {}
      },
      "source": [
        "import uuid\n",
        "from IPython.display import display_javascript, display_html\n",
        "\n",
        "@staticmethod\n",
        "def render_JSON(json_data):\n",
        "    json_str = \"\"\n",
        "    if isinstance(json_data, dict):\n",
        "        json_str = json.dumps(json_data)\n",
        "    else:\n",
        "        json_str = json_data\n",
        "    _uuid = str(uuid.uuid4())\n",
        "\n",
        "    display_html(\n",
        "        \"\"\"\n",
        "        <div id=\"{_uuid}\" style=\"width:100%;\"></div>\n",
        "        <script src=\"https://rawgit.com/caldwell/renderjson/master/renderjson.js\"></script>\n",
        "        <script>\n",
        "            document.getElementById('{_uuid}').appendChild(renderjson({json_str}))\n",
        "        </script>\n",
        "        \"\"\".format(_uuid=_uuid, json_str=json_str),\n",
        "        raw=True\n",
        "    )\n",
        "\n",
        "glTF_tools.render_JSON = render_JSON\n",
        "\n",
        "del render_JSON"
      ],
      "execution_count": 0,
      "outputs": []
    },
    {
      "cell_type": "code",
      "metadata": {
        "id": "ZG2vSuFaLoaU",
        "colab_type": "code",
        "colab": {}
      },
      "source": [
        "@staticmethod\n",
        "def accessor(idx, model, buffers):\n",
        "    _accessor = model['accessors'][idx]\n",
        "    _buffer_view = model['bufferViews'][_accessor['bufferView']]\n",
        "    _buffer = buffers[_buffer_view['buffer']]\n",
        "    byteLength = _buffer_view['byteLength']\n",
        "    byteOffset = _buffer_view['byteOffset']\n",
        "    ret\n",
        "    return _accessor, _buffer[byteOffset:byteOffset + byteLength]\n",
        "\n",
        "glTF_tools.accessor = accessor\n",
        "\n",
        "del accessor"
      ],
      "execution_count": 0,
      "outputs": []
    },
    {
      "cell_type": "code",
      "metadata": {
        "colab_type": "code",
        "id": "UjQih_EOL_ic",
        "colab": {}
      },
      "source": [
        "# !wget https://github.com/CSP-GD/notes/raw/master/practice/file_format/gltf%E6%A0%BC%E5%BC%8F%E8%A7%A3%E6%9E%90/glb/cube.glb\n",
        "\n",
        "# glb_file = open('./cube.glb', 'rb')\n",
        "\n",
        "# glb_bytes = glb_file.read()"
      ],
      "execution_count": 0,
      "outputs": []
    },
    {
      "cell_type": "code",
      "metadata": {
        "id": "CHM0jGF2FY9K",
        "colab_type": "code",
        "colab": {}
      },
      "source": [
        "# model, buffers = glTF_tools.glb_loader(glb_bytes)\n",
        "# print(model)\n",
        "# print(buffers)"
      ],
      "execution_count": 0,
      "outputs": []
    },
    {
      "cell_type": "code",
      "metadata": {
        "id": "3ynZHvJ8FdIS",
        "colab_type": "code",
        "colab": {}
      },
      "source": [
        "# glTF_tools.render_JSON(model)"
      ],
      "execution_count": 0,
      "outputs": []
    },
    {
      "cell_type": "code",
      "metadata": {
        "id": "QD5EAYXMPHy3",
        "colab_type": "code",
        "outputId": "f03a0363-937a-4d0a-b604-2eb7d2d7ce5a",
        "colab": {
          "base_uri": "https://localhost:8080/",
          "height": 34
        }
      },
      "source": [
        "print(\"glTF_tools is loaded\")"
      ],
      "execution_count": 0,
      "outputs": [
        {
          "output_type": "stream",
          "text": [
            "glTF_tools is loaded\n"
          ],
          "name": "stdout"
        }
      ]
    }
  ]
}
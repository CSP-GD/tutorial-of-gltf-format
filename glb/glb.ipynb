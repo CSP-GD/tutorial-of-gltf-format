{
  "nbformat": 4,
  "nbformat_minor": 0,
  "metadata": {
    "colab": {
      "name": "glb.ipynb",
      "provenance": [],
      "toc_visible": true
    },
    "kernelspec": {
      "name": "python3",
      "display_name": "Python 3"
    },
    "accelerator": "GPU"
  },
  "cells": [
    {
      "cell_type": "markdown",
      "metadata": {
        "id": "uDPDN1lSMl5q",
        "colab_type": "text"
      },
      "source": [
        "# GLTF 格式教學 開篇"
      ]
    },
    {
      "cell_type": "markdown",
      "metadata": {
        "id": "wB5dVCbFXVdh",
        "colab_type": "text"
      },
      "source": [
        "<a href=\"https://colab.research.google.com/github/CSP-GD/notes/blob/master/practice/file_format/gltf%E6%A0%BC%E5%BC%8F%E8%A7%A3%E6%9E%90/glb/glb.ipynb\">\n",
        "  <img src=\"https://colab.research.google.com/assets/colab-badge.svg\" alt=\"Open In Colab\"/>\n",
        "</a>\n",
        "\n",
        "[`Open in observablehq`](https://observablehq.com/@toonnyy8/gltf)"
      ]
    },
    {
      "cell_type": "markdown",
      "metadata": {
        "id": "tRnc8CmU8vRl",
        "colab_type": "text"
      },
      "source": [
        "## 關於 glTF"
      ]
    },
    {
      "cell_type": "markdown",
      "metadata": {
        "id": "IvWTJtvn87EL",
        "colab_type": "text"
      },
      "source": [
        "[glTF](https://www.khronos.org/gltf/) 全名為 GL Transmission Format (GL 傳輸格式)，  \n",
        "是由 Khronos 所推出的新 3D 模型儲存格式，  \n",
        "以容易讀取與解析的 JSON 格式作為主體，  \n",
        "希望能讓開發者輕鬆、高效的存取 3D 模型。"
      ]
    },
    {
      "cell_type": "markdown",
      "metadata": {
        "id": "FpK18ZA68_Y1",
        "colab_type": "text"
      },
      "source": [
        "glTF 格式實際上有三種儲存形式，分別是：\n",
        "1. **.gltf + .bin + texture**  \n",
        "> 由 JSON 格式的 `.gltf`、二進位格式的 `.bin` 與紋理圖片 `texture` 組合而成，  \n",
        "> 並在 `.gltf` 裡使用 url 去指向 `.bin` & `texture`。\n",
        "2. **.gltf only**  \n",
        "> 將全部資訊都儲存在 `.gltf` 中，  \n",
        "> 原本 `.bin` 與 `texture` 的部分會轉成 base64 存放於 `.gltf`。\n",
        "3. **.glb**  \n",
        "> 將全部資訊轉換成二進位格式儲存在 `.glb`。"
      ]
    },
    {
      "cell_type": "markdown",
      "metadata": {
        "id": "iJZE-jGf-JF4",
        "colab_type": "text"
      },
      "source": [
        "## 關於本教學"
      ]
    },
    {
      "cell_type": "markdown",
      "metadata": {
        "id": "_Y8c5F6m-Kbp",
        "colab_type": "text"
      },
      "source": [
        "本篇教學是某位萌新因心血來潮而開始編寫，  \n",
        "將會用 js 一步步去解讀 glTF，  \n",
        "希望能藉此將 glTF 格式推廣出去。  \n",
        "\n",
        "> ps.  \n",
        "> 實際上是某天看到 glTF 是自己能看懂的 3D 格式就很興奮的跳坑了，  \n",
        "> 然後才悲劇的發現「看懂!=讀懂」，好在官方文檔還蠻完善的，  \n",
        "> 網路上也能找些許的教學，所以開始非常痛苦又漫長的學習之路，  \n",
        "> 期許各位讀者能從這系列教學輕鬆的了解 glTF 並完成自己的載入器。"
      ]
    },
    {
      "cell_type": "markdown",
      "metadata": {
        "id": "GolqcvlZFjwX",
        "colab_type": "text"
      },
      "source": [
        "## .glb 格式解析"
      ]
    },
    {
      "cell_type": "markdown",
      "metadata": {
        "id": "GrSb0MlrFVpc",
        "colab_type": "text"
      },
      "source": [
        "作為教學的開篇就先簡單的分析 glTF 的二進位格式 glb\n",
        "\n",
        "![圖 1. glb格式 \\[1\\]](https://raw.githubusercontent.com/CSP-GD/notes/master/practice/file_format/gltf%E6%A0%BC%E5%BC%8F%E8%A7%A3%E6%9E%90/glb/gltfOverview-2.0.0b-binary.png)\n",
        "\n",
        "圖 1. glb格式 \\[1\\]"
      ]
    },
    {
      "cell_type": "markdown",
      "metadata": {
        "id": "L_MQFi7WPCWh",
        "colab_type": "text"
      },
      "source": [
        "### 載入 glTF_tools"
      ]
    },
    {
      "cell_type": "code",
      "metadata": {
        "id": "8y63nXDIPFyQ",
        "colab_type": "code",
        "colab": {
          "base_uri": "https://localhost:8080/",
          "height": 336
        },
        "outputId": "ec4ac308-7c36-4b1a-a33c-77d533bd0c36"
      },
      "source": [
        "!wget https://github.com/CSP-GD/notes/raw/master/practice/file_format/gltf%E6%A0%BC%E5%BC%8F%E8%A7%A3%E6%9E%90/gltf-tools.ipynb -O gltf-tools.ipynb\n",
        "%run ./gltf-tools.ipynb"
      ],
      "execution_count": 4,
      "outputs": [
        {
          "output_type": "stream",
          "text": [
            "--2020-04-07 15:27:07--  https://github.com/CSP-GD/notes/raw/master/practice/file_format/gltf%E6%A0%BC%E5%BC%8F%E8%A7%A3%E6%9E%90/gltf-tools.ipynb\n",
            "Resolving github.com (github.com)... 140.82.112.3\n",
            "Connecting to github.com (github.com)|140.82.112.3|:443... connected.\n",
            "HTTP request sent, awaiting response... 302 Found\n",
            "Location: https://raw.githubusercontent.com/CSP-GD/notes/master/practice/file_format/gltf%E6%A0%BC%E5%BC%8F%E8%A7%A3%E6%9E%90/gltf-tools.ipynb [following]\n",
            "--2020-04-07 15:27:08--  https://raw.githubusercontent.com/CSP-GD/notes/master/practice/file_format/gltf%E6%A0%BC%E5%BC%8F%E8%A7%A3%E6%9E%90/gltf-tools.ipynb\n",
            "Resolving raw.githubusercontent.com (raw.githubusercontent.com)... 151.101.0.133, 151.101.64.133, 151.101.128.133, ...\n",
            "Connecting to raw.githubusercontent.com (raw.githubusercontent.com)|151.101.0.133|:443... connected.\n",
            "HTTP request sent, awaiting response... 200 OK\n",
            "Length: 5549 (5.4K) [text/plain]\n",
            "Saving to: ‘gltf-tools.ipynb’\n",
            "\n",
            "gltf-tools.ipynb    100%[===================>]   5.42K  --.-KB/s    in 0s      \n",
            "\n",
            "2020-04-07 15:27:08 (55.7 MB/s) - ‘gltf-tools.ipynb’ saved [5549/5549]\n",
            "\n",
            "glTF_tools is loaded\n"
          ],
          "name": "stdout"
        }
      ]
    },
    {
      "cell_type": "markdown",
      "metadata": {
        "id": "GWWrpujiF3Gf",
        "colab_type": "text"
      },
      "source": [
        "### 先載入範例檔案"
      ]
    },
    {
      "cell_type": "code",
      "metadata": {
        "id": "blTAX0xFF4_V",
        "colab_type": "code",
        "outputId": "03cbfa98-4373-4c56-8512-f5707416adc5",
        "colab": {
          "base_uri": "https://localhost:8080/",
          "height": 318
        }
      },
      "source": [
        "!wget https://github.com/CSP-GD/notes/raw/master/practice/file_format/gltf%E6%A0%BC%E5%BC%8F%E8%A7%A3%E6%9E%90/glb/cube.glb -O cube.glb"
      ],
      "execution_count": 5,
      "outputs": [
        {
          "output_type": "stream",
          "text": [
            "--2020-04-07 15:27:10--  https://github.com/CSP-GD/notes/raw/master/practice/file_format/gltf%E6%A0%BC%E5%BC%8F%E8%A7%A3%E6%9E%90/glb/cube.glb\n",
            "Resolving github.com (github.com)... 140.82.112.3\n",
            "Connecting to github.com (github.com)|140.82.112.3|:443... connected.\n",
            "HTTP request sent, awaiting response... 302 Found\n",
            "Location: https://raw.githubusercontent.com/CSP-GD/notes/master/practice/file_format/gltf%E6%A0%BC%E5%BC%8F%E8%A7%A3%E6%9E%90/glb/cube.glb [following]\n",
            "--2020-04-07 15:27:11--  https://raw.githubusercontent.com/CSP-GD/notes/master/practice/file_format/gltf%E6%A0%BC%E5%BC%8F%E8%A7%A3%E6%9E%90/glb/cube.glb\n",
            "Resolving raw.githubusercontent.com (raw.githubusercontent.com)... 151.101.0.133, 151.101.64.133, 151.101.128.133, ...\n",
            "Connecting to raw.githubusercontent.com (raw.githubusercontent.com)|151.101.0.133|:443... connected.\n",
            "HTTP request sent, awaiting response... 200 OK\n",
            "Length: 2280 (2.2K) [application/octet-stream]\n",
            "Saving to: ‘cube.glb’\n",
            "\n",
            "\rcube.glb              0%[                    ]       0  --.-KB/s               \rcube.glb            100%[===================>]   2.23K  --.-KB/s    in 0s      \n",
            "\n",
            "2020-04-07 15:27:11 (37.2 MB/s) - ‘cube.glb’ saved [2280/2280]\n",
            "\n"
          ],
          "name": "stdout"
        }
      ]
    },
    {
      "cell_type": "code",
      "metadata": {
        "id": "43xdWXw7HXI4",
        "colab_type": "code",
        "outputId": "2002a057-1636-4ed7-edbe-c1dd45eb0d62",
        "colab": {
          "base_uri": "https://localhost:8080/",
          "height": 34
        }
      },
      "source": [
        "glb_file = open('./cube.glb', 'rb')\n",
        "\n",
        "glb_file"
      ],
      "execution_count": 6,
      "outputs": [
        {
          "output_type": "execute_result",
          "data": {
            "text/plain": [
              "<_io.BufferedReader name='./cube.glb'>"
            ]
          },
          "metadata": {
            "tags": []
          },
          "execution_count": 6
        }
      ]
    },
    {
      "cell_type": "markdown",
      "metadata": {
        "id": "ewXS5wSWVo-Z",
        "colab_type": "text"
      },
      "source": [
        "### 將檔案內容讀取出來"
      ]
    },
    {
      "cell_type": "code",
      "metadata": {
        "id": "mJ-12u_AIqhS",
        "colab_type": "code",
        "colab": {}
      },
      "source": [
        "glb_bytes = glb_file.read()"
      ],
      "execution_count": 0,
      "outputs": []
    },
    {
      "cell_type": "markdown",
      "metadata": {
        "id": "_jxnzToBV6j-",
        "colab_type": "text"
      },
      "source": [
        "### 解析 header"
      ]
    },
    {
      "cell_type": "markdown",
      "metadata": {
        "id": "UPOEyNM0V-21",
        "colab_type": "text"
      },
      "source": [
        "0~3 Bytes 為「glTF」的 ASCII 編碼"
      ]
    },
    {
      "cell_type": "code",
      "metadata": {
        "id": "uf3sKeNcJWW-",
        "colab_type": "code",
        "outputId": "6c57c01d-a51b-4a31-95ee-03dea8ad611a",
        "colab": {
          "base_uri": "https://localhost:8080/",
          "height": 34
        }
      },
      "source": [
        "glb_bytes[0:4].decode()"
      ],
      "execution_count": 8,
      "outputs": [
        {
          "output_type": "execute_result",
          "data": {
            "text/plain": [
              "'glTF'"
            ]
          },
          "metadata": {
            "tags": []
          },
          "execution_count": 8
        }
      ]
    },
    {
      "cell_type": "markdown",
      "metadata": {
        "id": "hWaxmhnfWCpZ",
        "colab_type": "text"
      },
      "source": [
        "第 4~7 Bytes 應該會顯示 glTF 的版本"
      ]
    },
    {
      "cell_type": "code",
      "metadata": {
        "id": "C5R3NZiBJxWW",
        "colab_type": "code",
        "outputId": "4caf5200-cee8-4ccd-bc80-7ac59b7f7401",
        "colab": {
          "base_uri": "https://localhost:8080/",
          "height": 34
        }
      },
      "source": [
        "gltf_version = 0\n",
        "\n",
        "for idx, curr in enumerate(glb_bytes[4:8]):\n",
        "    gltf_version += curr * 256 ** idx\n",
        "\n",
        "gltf_version"
      ],
      "execution_count": 9,
      "outputs": [
        {
          "output_type": "execute_result",
          "data": {
            "text/plain": [
              "2"
            ]
          },
          "metadata": {
            "tags": []
          },
          "execution_count": 9
        }
      ]
    },
    {
      "cell_type": "markdown",
      "metadata": {
        "id": "nwBYSf0JWFfR",
        "colab_type": "text"
      },
      "source": [
        "第 8~11 Bytes 則代表此檔案的 Byte 數"
      ]
    },
    {
      "cell_type": "code",
      "metadata": {
        "id": "QK5oQbH-WSPx",
        "colab_type": "code",
        "outputId": "bbdad031-de7f-4c39-ed28-280b23371215",
        "colab": {
          "base_uri": "https://localhost:8080/",
          "height": 34
        }
      },
      "source": [
        "print(len(glb_bytes), \"Bytes\")"
      ],
      "execution_count": 10,
      "outputs": [
        {
          "output_type": "stream",
          "text": [
            "2280 Bytes\n"
          ],
          "name": "stdout"
        }
      ]
    },
    {
      "cell_type": "code",
      "metadata": {
        "id": "yw5REjorKdu2",
        "colab_type": "code",
        "outputId": "59c22d58-cab8-4308-cdac-4ddcf0137c5e",
        "colab": {
          "base_uri": "https://localhost:8080/",
          "height": 34
        }
      },
      "source": [
        "gltf_length = 0\n",
        "\n",
        "for idx, curr in enumerate(glb_bytes[8:12]):\n",
        "    gltf_length += curr * 256 ** idx\n",
        "\n",
        "gltf_length"
      ],
      "execution_count": 11,
      "outputs": [
        {
          "output_type": "execute_result",
          "data": {
            "text/plain": [
              "2280"
            ]
          },
          "metadata": {
            "tags": []
          },
          "execution_count": 11
        }
      ]
    },
    {
      "cell_type": "markdown",
      "metadata": {
        "id": "Q-3PWIucWhZi",
        "colab_type": "text"
      },
      "source": [
        "### 解析 chunk"
      ]
    },
    {
      "cell_type": "code",
      "metadata": {
        "id": "1vwDI72FNIAq",
        "colab_type": "code",
        "colab": {}
      },
      "source": [
        "import json\n",
        "\n",
        "def chunk_parser(chunk_type, chunk_data):\n",
        "    return {\n",
        "        \"BIN\\u0000\": lambda:chunk_data,\n",
        "        \"JSON\": lambda:json.loads(chunk_data.decode()),\n",
        "    }[chunk_type]()"
      ],
      "execution_count": 0,
      "outputs": []
    },
    {
      "cell_type": "markdown",
      "metadata": {
        "id": "CU0tLI6VWmf_",
        "colab_type": "text"
      },
      "source": [
        "#### chunk 0 (JSON)"
      ]
    },
    {
      "cell_type": "code",
      "metadata": {
        "id": "IM2Gcmm_O54y",
        "colab_type": "code",
        "colab": {}
      },
      "source": [
        "chunk = { 'type': \"\", 'length': 0, 'data': \"\" }"
      ],
      "execution_count": 0,
      "outputs": []
    },
    {
      "cell_type": "markdown",
      "metadata": {
        "id": "jPbWLECaWtNP",
        "colab_type": "text"
      },
      "source": [
        "由 chunk 0 的 第 0~3 Bytes 知道 chunkLength 為多少"
      ]
    },
    {
      "cell_type": "code",
      "metadata": {
        "id": "D_nLqtN_P1FF",
        "colab_type": "code",
        "outputId": "8038582d-55be-4969-8d37-71e175c946bf",
        "colab": {
          "base_uri": "https://localhost:8080/",
          "height": 34
        }
      },
      "source": [
        "chunk[\"length\"] = 0\n",
        "\n",
        "for idx, curr in enumerate(glb_bytes[12:12 + 4]):\n",
        "    chunk[\"length\"] += curr * 256 ** idx\n",
        "\n",
        "chunk[\"length\"]"
      ],
      "execution_count": 14,
      "outputs": [
        {
          "output_type": "execute_result",
          "data": {
            "text/plain": [
              "1412"
            ]
          },
          "metadata": {
            "tags": []
          },
          "execution_count": 14
        }
      ]
    },
    {
      "cell_type": "markdown",
      "metadata": {
        "id": "0SvcjfbXWwiD",
        "colab_type": "text"
      },
      "source": [
        "由 chunk 0 的 第 4~7 Bytes 知道 chunkType 為 JSON"
      ]
    },
    {
      "cell_type": "code",
      "metadata": {
        "id": "z2_cxiopQZNe",
        "colab_type": "code",
        "outputId": "a91a02b4-a92f-47b9-afb5-8189e4bf663b",
        "colab": {
          "base_uri": "https://localhost:8080/",
          "height": 34
        }
      },
      "source": [
        "chunk[\"type\"] = glb_bytes[12 + 4:12 + 8].decode()\n",
        "\n",
        "chunk[\"type\"]"
      ],
      "execution_count": 15,
      "outputs": [
        {
          "output_type": "execute_result",
          "data": {
            "text/plain": [
              "'JSON'"
            ]
          },
          "metadata": {
            "tags": []
          },
          "execution_count": 15
        }
      ]
    },
    {
      "cell_type": "markdown",
      "metadata": {
        "id": "jLdQAao5WzYq",
        "colab_type": "text"
      },
      "source": [
        "知道了 chunkType 以及 chunkLength 就可以開始解析 chunkData 了"
      ]
    },
    {
      "cell_type": "code",
      "metadata": {
        "id": "T4UPXhteQt3E",
        "colab_type": "code",
        "colab": {}
      },
      "source": [
        "chunk[\"data\"] = chunk_parser(\n",
        "  chunk[\"type\"],\n",
        "  glb_bytes[12 + 8:12 + 8 + chunk[\"length\"]]\n",
        ")"
      ],
      "execution_count": 0,
      "outputs": []
    },
    {
      "cell_type": "code",
      "metadata": {
        "id": "FjdclqYkqwow",
        "colab_type": "code",
        "colab": {
          "base_uri": "https://localhost:8080/",
          "height": 34
        },
        "outputId": "d0baa5ec-8fbe-4ba8-9bf5-0c73d483fbe7"
      },
      "source": [
        "glTF_tools.render_JSON(chunk[\"data\"])"
      ],
      "execution_count": 17,
      "outputs": [
        {
          "output_type": "display_data",
          "data": {
            "text/html": [
              "<div id=\"96ee2918-5569-4d85-bce3-230fa9120eff\" style=\"width:100%;\"></div>"
            ]
          },
          "metadata": {
            "tags": []
          }
        },
        {
          "output_type": "display_data",
          "data": {
            "text/html": [
              "\n",
              "        <script src=\"https://rawgit.com/caldwell/renderjson/master/renderjson.js\"></script>\n",
              "        <script>\n",
              "            document.getElementById('96ee2918-5569-4d85-bce3-230fa9120eff').appendChild(renderjson({\"asset\": {\"generator\": \"Khronos glTF Blender I/O v1.1.46\", \"version\": \"2.0\"}, \"scene\": 0, \"scenes\": [{\"name\": \"Scene\", \"nodes\": [0, 1, 2]}], \"nodes\": [{\"mesh\": 0, \"name\": \"Cube\"}, {\"name\": \"Light\", \"rotation\": [0.16907575726509094, 0.7558803558349609, -0.27217137813568115, 0.570947527885437], \"translation\": [4.076245307922363, 5.903861999511719, -1.0054539442062378]}, {\"name\": \"Camera\", \"rotation\": [0.483536034822464, 0.33687159419059753, -0.20870360732078552, 0.7804827094078064], \"translation\": [7.358891487121582, 4.958309173583984, 6.925790786743164]}], \"materials\": [{\"doubleSided\": true, \"emissiveFactor\": [0, 0, 0], \"name\": \"Material\", \"pbrMetallicRoughness\": {\"baseColorFactor\": [0.800000011920929, 0.800000011920929, 0.800000011920929, 1], \"metallicFactor\": 0, \"roughnessFactor\": 0.4000000059604645}}], \"meshes\": [{\"name\": \"Cube\", \"primitives\": [{\"attributes\": {\"POSITION\": 0, \"NORMAL\": 1, \"TEXCOORD_0\": 2}, \"indices\": 3, \"material\": 0}]}], \"accessors\": [{\"bufferView\": 0, \"componentType\": 5126, \"count\": 24, \"max\": [1, 1, 1], \"min\": [-1, -1, -1], \"type\": \"VEC3\"}, {\"bufferView\": 1, \"componentType\": 5126, \"count\": 24, \"type\": \"VEC3\"}, {\"bufferView\": 2, \"componentType\": 5126, \"count\": 24, \"type\": \"VEC2\"}, {\"bufferView\": 3, \"componentType\": 5123, \"count\": 36, \"type\": \"SCALAR\"}], \"bufferViews\": [{\"buffer\": 0, \"byteLength\": 288, \"byteOffset\": 0}, {\"buffer\": 0, \"byteLength\": 288, \"byteOffset\": 288}, {\"buffer\": 0, \"byteLength\": 192, \"byteOffset\": 576}, {\"buffer\": 0, \"byteLength\": 72, \"byteOffset\": 768}], \"buffers\": [{\"byteLength\": 840}]}))\n",
              "        </script>\n",
              "        "
            ]
          },
          "metadata": {
            "tags": []
          }
        }
      ]
    },
    {
      "cell_type": "markdown",
      "metadata": {
        "id": "Ah5Hk9cqW3H6",
        "colab_type": "text"
      },
      "source": [
        "#### 剩下的 chunk 解析的方式都相同，在此就直接使用迴圈處理"
      ]
    },
    {
      "cell_type": "code",
      "metadata": {
        "id": "Nop-7VC3RDdK",
        "colab_type": "code",
        "colab": {}
      },
      "source": [
        "chunks = []\n",
        "offset = 12\n",
        "i = 0\n",
        "\n",
        "while(offset < len(glb_bytes)):\n",
        "    chunks.append({ \"type\": \"\", \"length\": 0, \"data\": \"\" })\n",
        "\n",
        "    for idx, curr in enumerate(glb_bytes[offset:offset + 4]):\n",
        "        chunks[i][\"length\"] += curr * 256 ** idx\n",
        "\n",
        "    chunks[i][\"type\"] = glb_bytes[offset + 4:offset + 8].decode()\n",
        "\n",
        "    chunks[i][\"data\"] = chunk_parser(\n",
        "        chunks[i][\"type\"],\n",
        "        glb_bytes[offset + 8:offset + 8 + chunks[i][\"length\"]]\n",
        "    )\n",
        "    offset += 8 + chunks[i][\"length\"]\n",
        "    i += 1"
      ],
      "execution_count": 0,
      "outputs": []
    },
    {
      "cell_type": "markdown",
      "metadata": {
        "id": "W4enMtkfW9V4",
        "colab_type": "text"
      },
      "source": [
        "最後將 chunks 整理一下"
      ]
    },
    {
      "cell_type": "code",
      "metadata": {
        "id": "e-9o_4_GS8EU",
        "colab_type": "code",
        "colab": {}
      },
      "source": [
        "model = chunks[0][\"data\"]\n",
        "buffers = []\n",
        "\n",
        "for idx in range(len(model['buffers'])):\n",
        "    buffers.append(chunks[idx + 1][\"data\"])"
      ],
      "execution_count": 0,
      "outputs": []
    },
    {
      "cell_type": "markdown",
      "metadata": {
        "id": "PDFyZ1cJXAvG",
        "colab_type": "text"
      },
      "source": [
        "完成~~"
      ]
    },
    {
      "cell_type": "markdown",
      "metadata": {
        "id": "GCjgwXhWMCI-",
        "colab_type": "text"
      },
      "source": [
        "## 參考"
      ]
    },
    {
      "cell_type": "markdown",
      "metadata": {
        "id": "MYLZSKtEMO9S",
        "colab_type": "text"
      },
      "source": [
        "1. https://github.com/KhronosGroup/glTF"
      ]
    }
  ]
}